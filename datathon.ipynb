{
 "cells": [
  {
   "cell_type": "markdown",
   "id": "b5fb718f-2a40-41e5-b2c4-726ea09f870b",
   "metadata": {},
   "source": [
    "# Importing libraries"
   ]
  },
  {
   "cell_type": "code",
   "execution_count": 3,
   "id": "de4344de-7dd4-4f75-93aa-8a90d238335b",
   "metadata": {},
   "outputs": [],
   "source": [
    "import numpy as np\n",
    "import pandas as pd\n",
    "from sklearn.preprocessing import StandardScaler\n",
    "from sklearn.model_selection import train_test_split\n",
    "from sklearn.linear_model import LogisticRegression\n",
    "from sklearn.metrics import f1_score\n",
    "from sklearn.decomposition import PCA\n",
    "from sklearn.linear_model import LinearRegression\n",
    "from sklearn.metrics import r2_score"
   ]
  },
  {
   "cell_type": "markdown",
   "id": "4551b388-e201-4e47-9b9e-14a09cf23f27",
   "metadata": {},
   "source": [
    "#  Load Datasets"
   ]
  },
  {
   "cell_type": "code",
   "execution_count": 5,
   "id": "db36c675-1006-4cf2-8fa0-bdeaa166e34c",
   "metadata": {},
   "outputs": [
    {
     "name": "stdout",
     "output_type": "stream",
     "text": [
      "                0throw_1thcolumn  0throw_2thcolumn  0throw_3thcolumn  \\\n",
      "participant_id                                                         \n",
      "70z8Q2xdTXM3            0.222930          0.527903          0.429966   \n",
      "WHWymJu6zNZi            0.614765          0.577255          0.496127   \n",
      "4PAQp1M6EyAo           -0.116833          0.458408          0.260703   \n",
      "obEacy4Of68I            0.199688          0.752714          0.658283   \n",
      "s7WzzDcmDOhF            0.227321          0.613268          0.621447   \n",
      "\n",
      "                0throw_4thcolumn  0throw_5thcolumn  0throw_6thcolumn  \\\n",
      "participant_id                                                         \n",
      "70z8Q2xdTXM3            0.060457          0.566489          0.315342   \n",
      "WHWymJu6zNZi            0.496606          0.404686          0.439724   \n",
      "4PAQp1M6EyAo            0.639031          0.769337          0.442528   \n",
      "obEacy4Of68I            0.575096          0.692867          0.645789   \n",
      "s7WzzDcmDOhF            0.562673          0.736709          0.589813   \n",
      "\n",
      "                0throw_7thcolumn  0throw_8thcolumn  0throw_9thcolumn  \\\n",
      "participant_id                                                         \n",
      "70z8Q2xdTXM3            0.508408         -0.078290          0.525692   \n",
      "WHWymJu6zNZi            0.122590         -0.085452          0.120673   \n",
      "4PAQp1M6EyAo            0.637110          0.192010          0.520379   \n",
      "obEacy4Of68I            0.522750          0.412188          0.530843   \n",
      "s7WzzDcmDOhF            0.266676          0.359668          0.300771   \n",
      "\n",
      "                0throw_10thcolumn  ...  195throw_196thcolumn  \\\n",
      "participant_id                     ...                         \n",
      "70z8Q2xdTXM3             0.470063  ...              0.224985   \n",
      "WHWymJu6zNZi             0.276350  ...              0.217546   \n",
      "4PAQp1M6EyAo             0.378557  ...              0.342487   \n",
      "obEacy4Of68I             0.259596  ...              0.103562   \n",
      "s7WzzDcmDOhF             0.331445  ...             -0.164956   \n",
      "\n",
      "                195throw_197thcolumn  195throw_198thcolumn  \\\n",
      "participant_id                                               \n",
      "70z8Q2xdTXM3                0.397448              0.422966   \n",
      "WHWymJu6zNZi               -0.014549              0.000440   \n",
      "4PAQp1M6EyAo               -0.021141             -0.037836   \n",
      "obEacy4Of68I               -0.178313              0.210983   \n",
      "s7WzzDcmDOhF                0.007064             -0.120904   \n",
      "\n",
      "                195throw_199thcolumn  196throw_197thcolumn  \\\n",
      "participant_id                                               \n",
      "70z8Q2xdTXM3                0.184642              0.305549   \n",
      "WHWymJu6zNZi               -0.096451              0.454501   \n",
      "4PAQp1M6EyAo                0.075069              0.412712   \n",
      "obEacy4Of68I               -0.018666              0.436313   \n",
      "s7WzzDcmDOhF               -0.488095              0.493575   \n",
      "\n",
      "                196throw_198thcolumn  196throw_199thcolumn  \\\n",
      "participant_id                                               \n",
      "70z8Q2xdTXM3                0.420349              0.016328   \n",
      "WHWymJu6zNZi                0.343916              0.167313   \n",
      "4PAQp1M6EyAo                0.292708              0.391005   \n",
      "obEacy4Of68I                0.592982              0.216205   \n",
      "s7WzzDcmDOhF               -0.215361              0.210685   \n",
      "\n",
      "                197throw_198thcolumn  197throw_199thcolumn  \\\n",
      "participant_id                                               \n",
      "70z8Q2xdTXM3                0.561864              0.471170   \n",
      "WHWymJu6zNZi                0.607656              0.550623   \n",
      "4PAQp1M6EyAo                0.461544              0.508912   \n",
      "obEacy4Of68I                0.341272              0.440313   \n",
      "s7WzzDcmDOhF                0.055850              0.119065   \n",
      "\n",
      "                198throw_199thcolumn  \n",
      "participant_id                        \n",
      "70z8Q2xdTXM3                0.365221  \n",
      "WHWymJu6zNZi                0.503176  \n",
      "4PAQp1M6EyAo                0.624232  \n",
      "obEacy4Of68I                0.558193  \n",
      "s7WzzDcmDOhF                0.108273  \n",
      "\n",
      "[5 rows x 19900 columns]\n"
     ]
    }
   ],
   "source": [
    "matrices_df = pd.read_csv(\"/Users/pavansharma/Downloads/widsdatathon2025/TRAIN_NEW/TRAIN_FUNCTIONAL_CONNECTOME_MATRICES_new_36P_Pearson.csv\")\n",
    "matrices_df.set_index('participant_id', inplace=True)\n",
    "print(matrices_df.head(5))"
   ]
  },
  {
   "cell_type": "code",
   "execution_count": 6,
   "id": "14a91e77-8aa6-4747-a788-b0049d705d6b",
   "metadata": {},
   "outputs": [
    {
     "name": "stdout",
     "output_type": "stream",
     "text": [
      "                Basic_Demos_Enroll_Year  Basic_Demos_Study_Site  \\\n",
      "participant_id                                                    \n",
      "00aIpNTbG5uh                       2019                       4   \n",
      "00fV0OyyoLfw                       2017                       1   \n",
      "04X1eiS79T4B                       2017                       1   \n",
      "05ocQutkURd6                       2018                       1   \n",
      "06YUNBA9ZRLq                       2018                       1   \n",
      "\n",
      "                PreInt_Demos_Fam_Child_Ethnicity  PreInt_Demos_Fam_Child_Race  \\\n",
      "participant_id                                                                  \n",
      "00aIpNTbG5uh                                 1.0                          0.0   \n",
      "00fV0OyyoLfw                                 0.0                          9.0   \n",
      "04X1eiS79T4B                                 1.0                          2.0   \n",
      "05ocQutkURd6                                 3.0                          8.0   \n",
      "06YUNBA9ZRLq                                 0.0                          1.0   \n",
      "\n",
      "                MRI_Track_Scan_Location  Barratt_Barratt_P1_Edu  \\\n",
      "participant_id                                                    \n",
      "00aIpNTbG5uh                        3.0                    21.0   \n",
      "00fV0OyyoLfw                        2.0                    21.0   \n",
      "04X1eiS79T4B                        2.0                     9.0   \n",
      "05ocQutkURd6                        2.0                    18.0   \n",
      "06YUNBA9ZRLq                        2.0                    12.0   \n",
      "\n",
      "                Barratt_Barratt_P1_Occ  Barratt_Barratt_P2_Edu  \\\n",
      "participant_id                                                   \n",
      "00aIpNTbG5uh                      45.0                     NaN   \n",
      "00fV0OyyoLfw                       0.0                    21.0   \n",
      "04X1eiS79T4B                       0.0                     NaN   \n",
      "05ocQutkURd6                      10.0                    18.0   \n",
      "06YUNBA9ZRLq                       0.0                     NaN   \n",
      "\n",
      "                Barratt_Barratt_P2_Occ  \n",
      "participant_id                          \n",
      "00aIpNTbG5uh                       NaN  \n",
      "00fV0OyyoLfw                      45.0  \n",
      "04X1eiS79T4B                       NaN  \n",
      "05ocQutkURd6                       0.0  \n",
      "06YUNBA9ZRLq                       NaN  \n"
     ]
    }
   ],
   "source": [
    "categorical_df = pd.read_excel('/Users/pavansharma/Downloads/widsdatathon2025/TRAIN_NEW/TRAIN_CATEGORICAL_METADATA_new.xlsx')\n",
    "categorical_df.set_index('participant_id', inplace=True)\n",
    "print(categorical_df.head(5))"
   ]
  },
  {
   "cell_type": "code",
   "execution_count": 7,
   "id": "468eb1b8-1caf-40a2-bad4-fde86cbb7652",
   "metadata": {},
   "outputs": [
    {
     "name": "stdout",
     "output_type": "stream",
     "text": [
      "                EHQ_EHQ_Total  ColorVision_CV_Score  APQ_P_APQ_P_CP  \\\n",
      "participant_id                                                        \n",
      "00aIpNTbG5uh           100.00                  13.0             3.0   \n",
      "00fV0OyyoLfw            92.27                  14.0             3.0   \n",
      "04X1eiS79T4B            86.67                  14.0             3.0   \n",
      "05ocQutkURd6            93.34                  14.0             3.0   \n",
      "06YUNBA9ZRLq             0.00                  14.0             8.0   \n",
      "\n",
      "                APQ_P_APQ_P_ID  APQ_P_APQ_P_INV  APQ_P_APQ_P_OPD  \\\n",
      "participant_id                                                     \n",
      "00aIpNTbG5uh              15.0             44.0             14.0   \n",
      "00fV0OyyoLfw              12.0             35.0             25.0   \n",
      "04X1eiS79T4B              21.0             37.0             18.0   \n",
      "05ocQutkURd6              11.0             42.0             15.0   \n",
      "06YUNBA9ZRLq              12.0             35.0             22.0   \n",
      "\n",
      "                APQ_P_APQ_P_PM  APQ_P_APQ_P_PP  SDQ_SDQ_Conduct_Problems  \\\n",
      "participant_id                                                             \n",
      "00aIpNTbG5uh              20.0            27.0                       3.0   \n",
      "00fV0OyyoLfw              28.0            30.0                       5.0   \n",
      "04X1eiS79T4B              26.0            28.0                       3.0   \n",
      "05ocQutkURd6              20.0            28.0                       0.0   \n",
      "06YUNBA9ZRLq              12.0            24.0                       6.0   \n",
      "\n",
      "                SDQ_SDQ_Difficulties_Total  SDQ_SDQ_Emotional_Problems  \\\n",
      "participant_id                                                           \n",
      "00aIpNTbG5uh                          17.0                         4.0   \n",
      "00fV0OyyoLfw                          20.0                         4.0   \n",
      "04X1eiS79T4B                          24.0                         7.0   \n",
      "05ocQutkURd6                           5.0                         0.0   \n",
      "06YUNBA9ZRLq                          23.0                         7.0   \n",
      "\n",
      "                SDQ_SDQ_Externalizing  SDQ_SDQ_Generating_Impact  \\\n",
      "participant_id                                                     \n",
      "00aIpNTbG5uh                     11.0                        5.0   \n",
      "00fV0OyyoLfw                     13.0                        5.0   \n",
      "04X1eiS79T4B                     10.0                       10.0   \n",
      "05ocQutkURd6                      3.0                        0.0   \n",
      "06YUNBA9ZRLq                     15.0                        8.0   \n",
      "\n",
      "                SDQ_SDQ_Hyperactivity  SDQ_SDQ_Internalizing  \\\n",
      "participant_id                                                 \n",
      "00aIpNTbG5uh                      8.0                    6.0   \n",
      "00fV0OyyoLfw                      8.0                    7.0   \n",
      "04X1eiS79T4B                      7.0                   14.0   \n",
      "05ocQutkURd6                      3.0                    2.0   \n",
      "06YUNBA9ZRLq                      9.0                    8.0   \n",
      "\n",
      "                SDQ_SDQ_Peer_Problems  SDQ_SDQ_Prosocial  \\\n",
      "participant_id                                             \n",
      "00aIpNTbG5uh                      2.0                9.0   \n",
      "00fV0OyyoLfw                      3.0                8.0   \n",
      "04X1eiS79T4B                      7.0                7.0   \n",
      "05ocQutkURd6                      2.0                6.0   \n",
      "06YUNBA9ZRLq                      1.0                4.0   \n",
      "\n",
      "                MRI_Track_Age_at_Scan  \n",
      "participant_id                         \n",
      "00aIpNTbG5uh                14.274127  \n",
      "00fV0OyyoLfw                      NaN  \n",
      "04X1eiS79T4B                13.463381  \n",
      "05ocQutkURd6                 9.572553  \n",
      "06YUNBA9ZRLq                 6.654574  \n"
     ]
    }
   ],
   "source": [
    "quantitative_df = pd.read_excel('/Users/pavansharma/Downloads/widsdatathon2025/TRAIN_NEW/TRAIN_QUANTITATIVE_METADATA_new.xlsx')\n",
    "quantitative_df.set_index('participant_id', inplace=True)\n",
    "print(quantitative_df.head(5))"
   ]
  },
  {
   "cell_type": "code",
   "execution_count": 8,
   "id": "ed161eef-ceab-4230-8a3f-cf9723ef2d9e",
   "metadata": {},
   "outputs": [
    {
     "name": "stdout",
     "output_type": "stream",
     "text": [
      "                EHQ_EHQ_Total  ColorVision_CV_Score  APQ_P_APQ_P_CP  \\\n",
      "participant_id                                                        \n",
      "00aIpNTbG5uh           100.00                  13.0             3.0   \n",
      "00fV0OyyoLfw            92.27                  14.0             3.0   \n",
      "04X1eiS79T4B            86.67                  14.0             3.0   \n",
      "05ocQutkURd6            93.34                  14.0             3.0   \n",
      "06YUNBA9ZRLq             0.00                  14.0             8.0   \n",
      "\n",
      "                APQ_P_APQ_P_ID  APQ_P_APQ_P_INV  APQ_P_APQ_P_OPD  \\\n",
      "participant_id                                                     \n",
      "00aIpNTbG5uh              15.0             44.0             14.0   \n",
      "00fV0OyyoLfw              12.0             35.0             25.0   \n",
      "04X1eiS79T4B              21.0             37.0             18.0   \n",
      "05ocQutkURd6              11.0             42.0             15.0   \n",
      "06YUNBA9ZRLq              12.0             35.0             22.0   \n",
      "\n",
      "                APQ_P_APQ_P_PM  APQ_P_APQ_P_PP  SDQ_SDQ_Conduct_Problems  \\\n",
      "participant_id                                                             \n",
      "00aIpNTbG5uh              20.0            27.0                       3.0   \n",
      "00fV0OyyoLfw              28.0            30.0                       5.0   \n",
      "04X1eiS79T4B              26.0            28.0                       3.0   \n",
      "05ocQutkURd6              20.0            28.0                       0.0   \n",
      "06YUNBA9ZRLq              12.0            24.0                       6.0   \n",
      "\n",
      "                SDQ_SDQ_Difficulties_Total  SDQ_SDQ_Emotional_Problems  \\\n",
      "participant_id                                                           \n",
      "00aIpNTbG5uh                          17.0                         4.0   \n",
      "00fV0OyyoLfw                          20.0                         4.0   \n",
      "04X1eiS79T4B                          24.0                         7.0   \n",
      "05ocQutkURd6                           5.0                         0.0   \n",
      "06YUNBA9ZRLq                          23.0                         7.0   \n",
      "\n",
      "                SDQ_SDQ_Externalizing  SDQ_SDQ_Generating_Impact  \\\n",
      "participant_id                                                     \n",
      "00aIpNTbG5uh                     11.0                        5.0   \n",
      "00fV0OyyoLfw                     13.0                        5.0   \n",
      "04X1eiS79T4B                     10.0                       10.0   \n",
      "05ocQutkURd6                      3.0                        0.0   \n",
      "06YUNBA9ZRLq                     15.0                        8.0   \n",
      "\n",
      "                SDQ_SDQ_Hyperactivity  SDQ_SDQ_Internalizing  \\\n",
      "participant_id                                                 \n",
      "00aIpNTbG5uh                      8.0                    6.0   \n",
      "00fV0OyyoLfw                      8.0                    7.0   \n",
      "04X1eiS79T4B                      7.0                   14.0   \n",
      "05ocQutkURd6                      3.0                    2.0   \n",
      "06YUNBA9ZRLq                      9.0                    8.0   \n",
      "\n",
      "                SDQ_SDQ_Peer_Problems  SDQ_SDQ_Prosocial  \\\n",
      "participant_id                                             \n",
      "00aIpNTbG5uh                      2.0                9.0   \n",
      "00fV0OyyoLfw                      3.0                8.0   \n",
      "04X1eiS79T4B                      7.0                7.0   \n",
      "05ocQutkURd6                      2.0                6.0   \n",
      "06YUNBA9ZRLq                      1.0                4.0   \n",
      "\n",
      "                MRI_Track_Age_at_Scan  \n",
      "participant_id                         \n",
      "00aIpNTbG5uh                14.274127  \n",
      "00fV0OyyoLfw                      NaN  \n",
      "04X1eiS79T4B                13.463381  \n",
      "05ocQutkURd6                 9.572553  \n",
      "06YUNBA9ZRLq                 6.654574  \n"
     ]
    }
   ],
   "source": [
    "solutions_df = pd.read_excel('/Users/pavansharma/Downloads/widsdatathon2025/TRAIN_NEW/TRAINING_SOLUTIONS.xlsx')\n",
    "solutions_df.set_index('participant_id', inplace=True)\n",
    "print(quantitative_df.head(5))"
   ]
  },
  {
   "cell_type": "markdown",
   "id": "9e7e7534-49a2-4cc4-8bcd-d01d04a2c6ad",
   "metadata": {},
   "source": [
    "# Check for missing values in each DataFrame"
   ]
  },
  {
   "cell_type": "code",
   "execution_count": 10,
   "id": "205e2dbd-eb8e-4989-9682-f1e1892fe430",
   "metadata": {},
   "outputs": [
    {
     "name": "stdout",
     "output_type": "stream",
     "text": [
      "🔍 Missing values in matrices_df:\n",
      "0\n",
      "\n",
      "🔍 Missing values in categorical_df:\n",
      "566\n",
      "\n",
      "🔍 Missing values in quantitative_df:\n",
      "549\n",
      "\n",
      "🔍 Missing values in solutions_df:\n",
      "0\n"
     ]
    }
   ],
   "source": [
    "\n",
    "\n",
    "print(\"🔍 Missing values in matrices_df:\")\n",
    "print(matrices_df.isnull().sum().sum())\n",
    "\n",
    "print(\"\\n🔍 Missing values in categorical_df:\")\n",
    "print(categorical_df.isnull().sum().sum())\n",
    "\n",
    "print(\"\\n🔍 Missing values in quantitative_df:\")\n",
    "print(quantitative_df.isnull().sum().sum())\n",
    "\n",
    "print(\"\\n🔍 Missing values in solutions_df:\")\n",
    "print(solutions_df.isnull().sum().sum())\n"
   ]
  },
  {
   "cell_type": "markdown",
   "id": "dd9d8dff-b82d-4d49-8d64-eac7e3b61189",
   "metadata": {},
   "source": [
    "# Handling missing values\n",
    "### using mode imputation column-wise for categorical data\n",
    "### using knn imputer for quantitaive instead of mean or median"
   ]
  },
  {
   "cell_type": "code",
   "execution_count": 12,
   "id": "2889c985-b13d-41d4-a341-b84cfbb32e09",
   "metadata": {},
   "outputs": [
    {
     "name": "stdout",
     "output_type": "stream",
     "text": [
      "                Basic_Demos_Enroll_Year  Basic_Demos_Study_Site  \\\n",
      "participant_id                                                    \n",
      "00aIpNTbG5uh                       2019                       4   \n",
      "00fV0OyyoLfw                       2017                       1   \n",
      "04X1eiS79T4B                       2017                       1   \n",
      "05ocQutkURd6                       2018                       1   \n",
      "06YUNBA9ZRLq                       2018                       1   \n",
      "\n",
      "                PreInt_Demos_Fam_Child_Ethnicity  PreInt_Demos_Fam_Child_Race  \\\n",
      "participant_id                                                                  \n",
      "00aIpNTbG5uh                                 1.0                          0.0   \n",
      "00fV0OyyoLfw                                 0.0                          9.0   \n",
      "04X1eiS79T4B                                 1.0                          2.0   \n",
      "05ocQutkURd6                                 3.0                          8.0   \n",
      "06YUNBA9ZRLq                                 0.0                          1.0   \n",
      "\n",
      "                MRI_Track_Scan_Location  Barratt_Barratt_P1_Edu  \\\n",
      "participant_id                                                    \n",
      "00aIpNTbG5uh                        3.0                    21.0   \n",
      "00fV0OyyoLfw                        2.0                    21.0   \n",
      "04X1eiS79T4B                        2.0                     9.0   \n",
      "05ocQutkURd6                        2.0                    18.0   \n",
      "06YUNBA9ZRLq                        2.0                    12.0   \n",
      "\n",
      "                Barratt_Barratt_P1_Occ  Barratt_Barratt_P2_Edu  \\\n",
      "participant_id                                                   \n",
      "00aIpNTbG5uh                      45.0                    21.0   \n",
      "00fV0OyyoLfw                       0.0                    21.0   \n",
      "04X1eiS79T4B                       0.0                    21.0   \n",
      "05ocQutkURd6                      10.0                    18.0   \n",
      "06YUNBA9ZRLq                       0.0                    21.0   \n",
      "\n",
      "                Barratt_Barratt_P2_Occ  \n",
      "participant_id                          \n",
      "00aIpNTbG5uh                      45.0  \n",
      "00fV0OyyoLfw                      45.0  \n",
      "04X1eiS79T4B                      45.0  \n",
      "05ocQutkURd6                       0.0  \n",
      "06YUNBA9ZRLq                      45.0  \n"
     ]
    }
   ],
   "source": [
    "categorical_df_imputed = categorical_df.apply(lambda col: col.fillna(col.mode().iloc[0]))\n",
    "print(categorical_df_imputed.head(5))"
   ]
  },
  {
   "cell_type": "code",
   "execution_count": 13,
   "id": "37e15ba6-1d95-4f16-add9-7c35f11e88be",
   "metadata": {},
   "outputs": [
    {
     "name": "stdout",
     "output_type": "stream",
     "text": [
      "                EHQ_EHQ_Total  ColorVision_CV_Score  APQ_P_APQ_P_CP  \\\n",
      "participant_id                                                        \n",
      "00aIpNTbG5uh           100.00                  13.0             3.0   \n",
      "00fV0OyyoLfw            92.27                  14.0             3.0   \n",
      "04X1eiS79T4B            86.67                  14.0             3.0   \n",
      "05ocQutkURd6            93.34                  14.0             3.0   \n",
      "06YUNBA9ZRLq             0.00                  14.0             8.0   \n",
      "\n",
      "                APQ_P_APQ_P_ID  APQ_P_APQ_P_INV  APQ_P_APQ_P_OPD  \\\n",
      "participant_id                                                     \n",
      "00aIpNTbG5uh              15.0             44.0             14.0   \n",
      "00fV0OyyoLfw              12.0             35.0             25.0   \n",
      "04X1eiS79T4B              21.0             37.0             18.0   \n",
      "05ocQutkURd6              11.0             42.0             15.0   \n",
      "06YUNBA9ZRLq              12.0             35.0             22.0   \n",
      "\n",
      "                APQ_P_APQ_P_PM  APQ_P_APQ_P_PP  SDQ_SDQ_Conduct_Problems  \\\n",
      "participant_id                                                             \n",
      "00aIpNTbG5uh              20.0            27.0                       3.0   \n",
      "00fV0OyyoLfw              28.0            30.0                       5.0   \n",
      "04X1eiS79T4B              26.0            28.0                       3.0   \n",
      "05ocQutkURd6              20.0            28.0                       0.0   \n",
      "06YUNBA9ZRLq              12.0            24.0                       6.0   \n",
      "\n",
      "                SDQ_SDQ_Difficulties_Total  SDQ_SDQ_Emotional_Problems  \\\n",
      "participant_id                                                           \n",
      "00aIpNTbG5uh                          17.0                         4.0   \n",
      "00fV0OyyoLfw                          20.0                         4.0   \n",
      "04X1eiS79T4B                          24.0                         7.0   \n",
      "05ocQutkURd6                           5.0                         0.0   \n",
      "06YUNBA9ZRLq                          23.0                         7.0   \n",
      "\n",
      "                SDQ_SDQ_Externalizing  SDQ_SDQ_Generating_Impact  \\\n",
      "participant_id                                                     \n",
      "00aIpNTbG5uh                     11.0                        5.0   \n",
      "00fV0OyyoLfw                     13.0                        5.0   \n",
      "04X1eiS79T4B                     10.0                       10.0   \n",
      "05ocQutkURd6                      3.0                        0.0   \n",
      "06YUNBA9ZRLq                     15.0                        8.0   \n",
      "\n",
      "                SDQ_SDQ_Hyperactivity  SDQ_SDQ_Internalizing  \\\n",
      "participant_id                                                 \n",
      "00aIpNTbG5uh                      8.0                    6.0   \n",
      "00fV0OyyoLfw                      8.0                    7.0   \n",
      "04X1eiS79T4B                      7.0                   14.0   \n",
      "05ocQutkURd6                      3.0                    2.0   \n",
      "06YUNBA9ZRLq                      9.0                    8.0   \n",
      "\n",
      "                SDQ_SDQ_Peer_Problems  SDQ_SDQ_Prosocial  \\\n",
      "participant_id                                             \n",
      "00aIpNTbG5uh                      2.0                9.0   \n",
      "00fV0OyyoLfw                      3.0                8.0   \n",
      "04X1eiS79T4B                      7.0                7.0   \n",
      "05ocQutkURd6                      2.0                6.0   \n",
      "06YUNBA9ZRLq                      1.0                4.0   \n",
      "\n",
      "                MRI_Track_Age_at_Scan  \n",
      "participant_id                         \n",
      "00aIpNTbG5uh                14.274127  \n",
      "00fV0OyyoLfw                12.503604  \n",
      "04X1eiS79T4B                13.463381  \n",
      "05ocQutkURd6                 9.572553  \n",
      "06YUNBA9ZRLq                 6.654574  \n"
     ]
    }
   ],
   "source": [
    "from sklearn.impute import KNNImputer\n",
    "\n",
    "imputer = KNNImputer(n_neighbors=5)\n",
    "quantitative_filled_array = imputer.fit_transform(quantitative_df)\n",
    "quantitative_df_filled = pd.DataFrame(quantitative_filled_array, \n",
    "                                      columns=quantitative_df.columns, \n",
    "                                      index=quantitative_df.index)\n",
    "print(quantitative_df_filled.head(5))"
   ]
  },
  {
   "cell_type": "code",
   "execution_count": 14,
   "id": "95d7ae77-371e-4b39-a2d6-beb8e824ef4e",
   "metadata": {},
   "outputs": [
    {
     "name": "stdout",
     "output_type": "stream",
     "text": [
      "🔍 Missing values in matrices_df:\n",
      "0\n",
      "\n",
      "🔍 Missing values in categorical_df:\n",
      "0\n",
      "\n",
      "🔍 Missing values in quantitative_df:\n",
      "0\n",
      "\n",
      "🔍 Missing values in solutions_df:\n",
      "0\n"
     ]
    }
   ],
   "source": [
    "print(\"🔍 Missing values in matrices_df:\")\n",
    "print(matrices_df.isnull().sum().sum())\n",
    "\n",
    "print(\"\\n🔍 Missing values in categorical_df:\")\n",
    "print(categorical_df_imputed.isnull().sum().sum())\n",
    "\n",
    "print(\"\\n🔍 Missing values in quantitative_df:\")\n",
    "print(quantitative_df_filled.isnull().sum().sum())\n",
    "\n",
    "print(\"\\n🔍 Missing values in solutions_df:\")\n",
    "print(solutions_df.isnull().sum().sum())"
   ]
  },
  {
   "cell_type": "markdown",
   "id": "a666f1fd-2109-45d9-8c93-9e593e2c2f0f",
   "metadata": {},
   "source": [
    "#  Merging Datasets into one "
   ]
  },
  {
   "cell_type": "code",
   "execution_count": 16,
   "id": "67e2ffaa-19ca-464b-9569-cd5a68a9ebf0",
   "metadata": {},
   "outputs": [],
   "source": [
    "full_df = pd.concat([matrices_df, categorical_df, quantitative_df, solutions_df], axis=1)\n",
    "full_df.fillna(0, inplace=True)"
   ]
  },
  {
   "cell_type": "markdown",
   "id": "fc1931d2-21c5-4d65-8c54-13363f854615",
   "metadata": {},
   "source": [
    "#  Correlation with ADHD_Outcome "
   ]
  },
  {
   "cell_type": "code",
   "execution_count": 18,
   "id": "8c05cd5b-4d46-49f3-b2f5-a760ec936dad",
   "metadata": {},
   "outputs": [],
   "source": [
    "adhd_corr = full_df.drop(columns=['Sex_F'], errors='ignore').corr()['ADHD_Outcome'].drop('ADHD_Outcome')\n",
    "top_features = adhd_corr.abs().sort_values(ascending=False).index.tolist()"
   ]
  },
  {
   "cell_type": "markdown",
   "id": "1ee63905-6189-4763-910a-26f4ba3beb20",
   "metadata": {},
   "source": [
    "# Iterate and compute cumulative R²"
   ]
  },
  {
   "cell_type": "code",
   "execution_count": 20,
   "id": "64a353bd-9f30-4375-96ff-379c13329510",
   "metadata": {},
   "outputs": [],
   "source": [
    "X = full_df[top_features]\n",
    "y = full_df['ADHD_Outcome']\n",
    "\n",
    "r2_values = []\n",
    "selected_features = []\n",
    "\n",
    "for feature in top_features:\n",
    "    selected_features.append(feature)\n",
    "    model = LinearRegression()\n",
    "    model.fit(X[selected_features], y)\n",
    "    y_pred = model.predict(X[selected_features])\n",
    "    r2 = r2_score(y, y_pred)\n",
    "    r2_values.append(r2)\n",
    "    if r2 >= 0.85:\n",
    "        break"
   ]
  },
  {
   "cell_type": "markdown",
   "id": "914de1a9-e981-46e7-b74c-0a3e3eabcf81",
   "metadata": {},
   "source": [
    "# Final features that explain at least 85% of ADHD_Outcome variance"
   ]
  },
  {
   "cell_type": "code",
   "execution_count": 22,
   "id": "62993f82-41e4-4c2e-bd27-fdf49d3ce328",
   "metadata": {},
   "outputs": [
    {
     "name": "stdout",
     "output_type": "stream",
     "text": [
      "\n",
      " Selected 887 features explaining ≥85% of the variance:\n",
      "['SDQ_SDQ_Hyperactivity', 'SDQ_SDQ_Externalizing', 'SDQ_SDQ_Difficulties_Total', 'SDQ_SDQ_Generating_Impact', 'SDQ_SDQ_Conduct_Problems', 'SDQ_SDQ_Internalizing', 'SDQ_SDQ_Peer_Problems', 'SDQ_SDQ_Emotional_Problems', 'SDQ_SDQ_Prosocial', 'Basic_Demos_Enroll_Year', 'MRI_Track_Scan_Location', 'APQ_P_APQ_P_OPD', 'APQ_P_APQ_P_ID', '166throw_184thcolumn', '78throw_170thcolumn', '1throw_16thcolumn', '2throw_166thcolumn', '11throw_166thcolumn', '78throw_189thcolumn', '58throw_163thcolumn', '76throw_170thcolumn', '105throw_166thcolumn', '53throw_127thcolumn', '50throw_197thcolumn', '159throw_166thcolumn', '0throw_166thcolumn', '50throw_189thcolumn', '34throw_130thcolumn', '5throw_166thcolumn', '98throw_162thcolumn', '24throw_162thcolumn', '143throw_199thcolumn', '96throw_169thcolumn', '50throw_192thcolumn', '0throw_58thcolumn', '123throw_143thcolumn', '73throw_185thcolumn', '104throw_166thcolumn', '166throw_174thcolumn', '76throw_189thcolumn', '87throw_159thcolumn', '96throw_170thcolumn', '108throw_144thcolumn', '116throw_119thcolumn', '65throw_185thcolumn', '18throw_156thcolumn', '11throw_60thcolumn', '119throw_139thcolumn', '0throw_102thcolumn', '102throw_166thcolumn', '24throw_161thcolumn', '7throw_144thcolumn', '21throw_160thcolumn', '101throw_166thcolumn', '85throw_159thcolumn', '58throw_100thcolumn', '100throw_166thcolumn', '25throw_161thcolumn', '72throw_119thcolumn', '141throw_143thcolumn', '39throw_130thcolumn', '80throw_189thcolumn', '28throw_70thcolumn', '1throw_139thcolumn', '169throw_194thcolumn', '21throw_161thcolumn', '166throw_191thcolumn', '52throw_199thcolumn', '73throw_182thcolumn', '125throw_160thcolumn', '125throw_162thcolumn', '17throw_35thcolumn', '182throw_185thcolumn', '4throw_118thcolumn', '73throw_76thcolumn', '74throw_170thcolumn', '21throw_53thcolumn', '12throw_156thcolumn', '84throw_159thcolumn', '65throw_194thcolumn', '0throw_103thcolumn', '78throw_190thcolumn', '169throw_185thcolumn', '84throw_115thcolumn', '30throw_182thcolumn', '97throw_98thcolumn', '15throw_80thcolumn', '112throw_142thcolumn', '110throw_166thcolumn', '24throw_143thcolumn', '65throw_101thcolumn', '1throw_119thcolumn', '120throw_156thcolumn', '59throw_80thcolumn', '34throw_163thcolumn', '91throw_197thcolumn', '47throw_81thcolumn', '91throw_92thcolumn', '21throw_162thcolumn', '106throw_166thcolumn', '161throw_199thcolumn', '37throw_130thcolumn', '52throw_125thcolumn', '108throw_166thcolumn', '38throw_134thcolumn', '35throw_130thcolumn', '17throw_130thcolumn', '166throw_177thcolumn', '36throw_130thcolumn', '76throw_190thcolumn', '50throw_178thcolumn', '149throw_165thcolumn', '34throw_134thcolumn', '156throw_166thcolumn', '80throw_197thcolumn', '65throw_96thcolumn', '70throw_186thcolumn', '12throw_43thcolumn', '134throw_174thcolumn', '77throw_189thcolumn', '118throw_119thcolumn', '130throw_139thcolumn', '53throw_193thcolumn', '58throw_159thcolumn', '43throw_147thcolumn', '72throw_164thcolumn', '4throw_166thcolumn', '81throw_159thcolumn', '53throw_145thcolumn', '166throw_179thcolumn', '29throw_166thcolumn', '50throw_183thcolumn', '166throw_176thcolumn', '17throw_37thcolumn', '1throw_118thcolumn', '78throw_85thcolumn', '37throw_134thcolumn', '87throw_189thcolumn', '117throw_134thcolumn', '109throw_144thcolumn', '39throw_199thcolumn', '58throw_184thcolumn', '166throw_192thcolumn', '98throw_115thcolumn', '111throw_166thcolumn', '8throw_169thcolumn', '137throw_142thcolumn', '87throw_191thcolumn', '0throw_6thcolumn', '107throw_165thcolumn', '119throw_142thcolumn', '125throw_161thcolumn', '126throw_143thcolumn', '118throw_139thcolumn', '86throw_97thcolumn', '23throw_52thcolumn', '85throw_162thcolumn', '84throw_144thcolumn', '166throw_175thcolumn', '17throw_173thcolumn', '93throw_159thcolumn', '69throw_91thcolumn', '143throw_144thcolumn', '146throw_165thcolumn', '50throw_170thcolumn', '60throw_106thcolumn', '97throw_189thcolumn', '36throw_119thcolumn', 'Basic_Demos_Study_Site', '37throw_119thcolumn', '30throw_73thcolumn', '9throw_144thcolumn', '166throw_189thcolumn', '25throw_53thcolumn', '51throw_124thcolumn', '103throw_162thcolumn', '157throw_166thcolumn', '24throw_160thcolumn', '70throw_81thcolumn', '25throw_52thcolumn', '80throw_85thcolumn', '17throw_101thcolumn', '102throw_144thcolumn', '65throw_77thcolumn', '25throw_130thcolumn', '55throw_125thcolumn', '1throw_97thcolumn', '164throw_192thcolumn', '28throw_58thcolumn', '59throw_159thcolumn', '28throw_82thcolumn', '85throw_170thcolumn', '58throw_142thcolumn', '12throw_98thcolumn', '79throw_170thcolumn', '95throw_170thcolumn', '166throw_173thcolumn', '123throw_190thcolumn', '130throw_146thcolumn', '158throw_182thcolumn', '3throw_166thcolumn', '159throw_165thcolumn', '11throw_125thcolumn', '60throw_102thcolumn', '164throw_173thcolumn', '60throw_105thcolumn', '34throw_142thcolumn', '91throw_192thcolumn', '159throw_167thcolumn', '9throw_166thcolumn', '98throw_147thcolumn', '119throw_130thcolumn', '98throw_161thcolumn', '32throw_164thcolumn', '58throw_80thcolumn', '59throw_163thcolumn', '78throw_188thcolumn', '102throw_161thcolumn', '12throw_172thcolumn', '80throw_93thcolumn', '73throw_138thcolumn', '149throw_167thcolumn', '146throw_167thcolumn', '21throw_52thcolumn', '13throw_134thcolumn', '98throw_141thcolumn', '22throw_164thcolumn', '63throw_149thcolumn', '12throw_85thcolumn', '112throw_149thcolumn', '35throw_119thcolumn', '52throw_95thcolumn', '0throw_59thcolumn', '88throw_159thcolumn', '35throw_139thcolumn', '60throw_184thcolumn', '114throw_118thcolumn', '53throw_128thcolumn', '91throw_189thcolumn', '46throw_199thcolumn', '23throw_53thcolumn', '60throw_75thcolumn', '43throw_114thcolumn', '64throw_119thcolumn', '35throw_163thcolumn', '16throw_103thcolumn', '14throw_95thcolumn', '9throw_162thcolumn', '70throw_194thcolumn', '12throw_189thcolumn', '142throw_165thcolumn', '80throw_143thcolumn', '44throw_194thcolumn', '53throw_164thcolumn', '1throw_52thcolumn', '86throw_162thcolumn', '34throw_101thcolumn', '102throw_197thcolumn', '13throw_142thcolumn', '0throw_107thcolumn', '18throw_80thcolumn', '30throw_173thcolumn', '85throw_102thcolumn', '87throw_170thcolumn', '134throw_191thcolumn', '81throw_161thcolumn', '130throw_159thcolumn', '147throw_148thcolumn', '59throw_130thcolumn', '37throw_164thcolumn', '103throw_195thcolumn', '39throw_161thcolumn', '126throw_190thcolumn', '28throw_87thcolumn', '61throw_96thcolumn', '99throw_147thcolumn', '101throw_139thcolumn', '138throw_182thcolumn', '44throw_130thcolumn', '134throw_159thcolumn', '115throw_142thcolumn', '25throw_162thcolumn', '84throw_166thcolumn', '72throw_182thcolumn', '47throw_194thcolumn', '98throw_102thcolumn', '60throw_108thcolumn', '77throw_89thcolumn', '85throw_96thcolumn', '150throw_199thcolumn', '130throw_177thcolumn', '91throw_159thcolumn', '82throw_123thcolumn', '16throw_101thcolumn', '1throw_160thcolumn', '80throw_170thcolumn', '80throw_110thcolumn', '52throw_183thcolumn', '44throw_161thcolumn', '162throw_199thcolumn', '70throw_180thcolumn', '31throw_171thcolumn', '73throw_158thcolumn', '53throw_57thcolumn', '65throw_184thcolumn', '17throw_150thcolumn', '54throw_179thcolumn', '104throw_118thcolumn', '12throw_80thcolumn', '31throw_164thcolumn', '76throw_85thcolumn', '166throw_188thcolumn', '52throw_189thcolumn', '53throw_189thcolumn', '16throw_35thcolumn', '56throw_139thcolumn', '137throw_149thcolumn', '20throw_161thcolumn', '58throw_130thcolumn', '1throw_162thcolumn', '65throw_161thcolumn', '113throw_134thcolumn', '150throw_196thcolumn', '134throw_149thcolumn', '17throw_176thcolumn', '22throw_143thcolumn', '12throw_114thcolumn', '1throw_19thcolumn', '62throw_115thcolumn', '44throw_165thcolumn', '0throw_8thcolumn', '20throw_160thcolumn', '5throw_60thcolumn', '164throw_196thcolumn', '82throw_144thcolumn', '28throw_177thcolumn', '98throw_150thcolumn', '29throw_153thcolumn', '29throw_88thcolumn', '11throw_144thcolumn', '129throw_138thcolumn', '53throw_95thcolumn', '80throw_105thcolumn', '35throw_116thcolumn', '24throw_141thcolumn', '2throw_179thcolumn', '145throw_161thcolumn', '59throw_100thcolumn', '63throw_159thcolumn', '30throw_184thcolumn', '154throw_162thcolumn', '98throw_143thcolumn', '39throw_143thcolumn', '0throw_153thcolumn', '18throw_51thcolumn', '98throw_114thcolumn', '27throw_53thcolumn', '17throw_134thcolumn', '24throw_167thcolumn', '124throw_156thcolumn', '54throw_125thcolumn', '34throw_165thcolumn', '175throw_192thcolumn', '12throw_138thcolumn', '115throw_117thcolumn', '39throw_173thcolumn', '165throw_184thcolumn', '132throw_166thcolumn', '129throw_167thcolumn', '11throw_133thcolumn', '87throw_174thcolumn', '176throw_192thcolumn', '78throw_152thcolumn', '43throw_161thcolumn', '37throw_114thcolumn', '52throw_127thcolumn', '60throw_159thcolumn', '44throw_167thcolumn', '53throw_197thcolumn', '35throw_142thcolumn', '112throw_115thcolumn', '41throw_74thcolumn', '60throw_156thcolumn', '87throw_130thcolumn', '17throw_163thcolumn', '44throw_98thcolumn', '2throw_108thcolumn', '17throw_114thcolumn', '114throw_119thcolumn', '29throw_134thcolumn', '65throw_76thcolumn', '44throw_171thcolumn', '43throw_44thcolumn', '162throw_186thcolumn', '99throw_167thcolumn', '12throw_72thcolumn', '6throw_58thcolumn', '96throw_190thcolumn', '146throw_171thcolumn', '5throw_122thcolumn', '74throw_189thcolumn', '39throw_68thcolumn', '53throw_125thcolumn', '162throw_189thcolumn', '91throw_183thcolumn', '35throw_134thcolumn', '44throw_72thcolumn', '2throw_9thcolumn', '146throw_166thcolumn', '158throw_169thcolumn', '69throw_194thcolumn', '1throw_36thcolumn', '67throw_106thcolumn', '53throw_83thcolumn', '129throw_176thcolumn', '101throw_120thcolumn', '129throw_173thcolumn', '44throw_96thcolumn', '98throw_195thcolumn', '47throw_78thcolumn', '4throw_16thcolumn', '85throw_97thcolumn', '51throw_166thcolumn', '101throw_119thcolumn', '136throw_149thcolumn', '166throw_196thcolumn', '50throw_196thcolumn', '0throw_80thcolumn', '59throw_195thcolumn', '77throw_143thcolumn', '80throw_134thcolumn', '26throw_167thcolumn', '52throw_120thcolumn', '154throw_161thcolumn', '66throw_115thcolumn', '101throw_118thcolumn', '39throw_162thcolumn', '0throw_173thcolumn', '7throw_94thcolumn', '13throw_130thcolumn', '119throw_134thcolumn', '38throw_100thcolumn', '83throw_145thcolumn', '98throw_196thcolumn', '28throw_186thcolumn', '50throw_85thcolumn', '62throw_113thcolumn', '52throw_103thcolumn', '101throw_121thcolumn', '2throw_60thcolumn', '151throw_174thcolumn', '70throw_96thcolumn', '4throw_179thcolumn', '157throw_199thcolumn', '45throw_74thcolumn', '15throw_159thcolumn', '43throw_109thcolumn', '130throw_188thcolumn', '38throw_165thcolumn', '60throw_110thcolumn', '2throw_184thcolumn', '17throw_36thcolumn', '41throw_83thcolumn', '52throw_150thcolumn', '126throw_160thcolumn', '54throw_189thcolumn', '98throw_126thcolumn', '175throw_189thcolumn', '24throw_52thcolumn', '78throw_138thcolumn', '167throw_199thcolumn', '53throw_135thcolumn', '60throw_191thcolumn', '9throw_60thcolumn', '175throw_196thcolumn', '20throw_190thcolumn', '1throw_117thcolumn', '83throw_124thcolumn', '86throw_161thcolumn', '1throw_163thcolumn', '45throw_134thcolumn', '143throw_165thcolumn', '37throw_57thcolumn', '97throw_103thcolumn', '60throw_111thcolumn', '170throw_194thcolumn', '12throw_74thcolumn', '95throw_188thcolumn', '82throw_124thcolumn', '14throw_50thcolumn', '0throw_87thcolumn', '78throw_157thcolumn', '52throw_197thcolumn', '123throw_182thcolumn', '102throw_184thcolumn', '121throw_156thcolumn', '53throw_123thcolumn', '146throw_172thcolumn', '44throw_71thcolumn', '3throw_190thcolumn', '77throw_169thcolumn', '42throw_130thcolumn', '61throw_185thcolumn', '53throw_72thcolumn', '158throw_170thcolumn', '132throw_164thcolumn', '42throw_196thcolumn', '105throw_179thcolumn', '1throw_120thcolumn', '22throw_161thcolumn', '61throw_76thcolumn', '21throw_180thcolumn', '49throw_70thcolumn', '39throw_154thcolumn', '51throw_60thcolumn', '80throw_87thcolumn', '63throw_146thcolumn', '88throw_163thcolumn', '61throw_68thcolumn', '17throw_172thcolumn', '88throw_130thcolumn', '45throw_165thcolumn', '28throw_34thcolumn', '29throw_93thcolumn', '73throw_96thcolumn', '72throw_99thcolumn', '11throw_105thcolumn', '72throw_137thcolumn', '146throw_173thcolumn', '131throw_143thcolumn', '80throw_192thcolumn', '106throw_144thcolumn', '116throw_149thcolumn', '150throw_169thcolumn', '136throw_142thcolumn', '78throw_133thcolumn', '97throw_169thcolumn', '29throw_87thcolumn', '53throw_124thcolumn', '26throw_138thcolumn', '98throw_144thcolumn', '52throw_101thcolumn', '2throw_144thcolumn', '61throw_106thcolumn', '164throw_172thcolumn', '5throw_179thcolumn', '26throw_92thcolumn', '20throw_143thcolumn', '38throw_163thcolumn', '42throw_44thcolumn', '37throw_101thcolumn', '126throw_192thcolumn', '13throw_95thcolumn', '97throw_99thcolumn', '105throw_180thcolumn', '35throw_118thcolumn', '161throw_164thcolumn', '28throw_91thcolumn', '143throw_145thcolumn', '0throw_137thcolumn', '163throw_178thcolumn', '85throw_147thcolumn', '0throw_9thcolumn', '9throw_80thcolumn', '23throw_134thcolumn', '7throw_61thcolumn', '28throw_53thcolumn', '119throw_148thcolumn', '129throw_151thcolumn', '36throw_101thcolumn', '16throw_17thcolumn', '91throw_191thcolumn', '170throw_175thcolumn', '21throw_190thcolumn', '134throw_144thcolumn', '142throw_166thcolumn', '134throw_140thcolumn', '70throw_178thcolumn', '12throw_148thcolumn', '157throw_176thcolumn', '2throw_152thcolumn', '140throw_172thcolumn', '157throw_197thcolumn', '98throw_145thcolumn', '1throw_195thcolumn', '126throw_156thcolumn', '171throw_173thcolumn', '3throw_160thcolumn', '29throw_82thcolumn', '59throw_101thcolumn', '134throw_189thcolumn', '71throw_166thcolumn', '56throw_138thcolumn', '21throw_71thcolumn', '7throw_92thcolumn', '111throw_133thcolumn', '164throw_189thcolumn', '57throw_139thcolumn', '44throw_146thcolumn', '65throw_92thcolumn', '25throw_143thcolumn', '46throw_196thcolumn', '91throw_199thcolumn', '0throw_3thcolumn', '106throw_173thcolumn', '101throw_141thcolumn', '62throw_183thcolumn', '52throw_98thcolumn', '159throw_188thcolumn', '81throw_170thcolumn', '46throw_197thcolumn', '103throw_119thcolumn', '2throw_175thcolumn', 'APQ_P_APQ_P_CP', '20throw_54thcolumn', '17throw_72thcolumn', '0throw_1thcolumn', '17throw_198thcolumn', '75throw_143thcolumn', '109throw_165thcolumn', '15throw_52thcolumn', '159throw_197thcolumn', '59throw_75thcolumn', '175throw_190thcolumn', '9throw_52thcolumn', '53throw_199thcolumn', '26throw_173thcolumn', '58throw_106thcolumn', '120throw_160thcolumn', '15throw_156thcolumn', '22throw_196thcolumn', '72throw_141thcolumn', '81throw_172thcolumn', '94throw_159thcolumn', '51throw_196thcolumn', '39throw_124thcolumn', '110throw_162thcolumn', '114throw_143thcolumn', '7throw_60thcolumn', '21throw_31thcolumn', '15throw_53thcolumn', '134throw_146thcolumn', '66throw_72thcolumn', '83throw_159thcolumn', '56throw_182thcolumn', '34throw_39thcolumn', '87throw_184thcolumn', '134throw_184thcolumn', '58throw_174thcolumn', '28throw_47thcolumn', '82throw_126thcolumn', '36throw_134thcolumn', '102throw_152thcolumn', '146throw_194thcolumn', '40throw_178thcolumn', '38throw_150thcolumn', '145throw_162thcolumn', '5throw_125thcolumn', '29throw_34thcolumn', '128throw_161thcolumn', '10throw_192thcolumn', '17throw_139thcolumn', '150throw_197thcolumn', '47throw_96thcolumn', '1throw_21thcolumn', '52throw_124thcolumn', '44throw_180thcolumn', '60throw_100thcolumn', '43throw_182thcolumn', '10throw_163thcolumn', '15throw_95thcolumn', '39throw_149thcolumn', '43throw_107thcolumn', '5throw_164thcolumn', '1throw_37thcolumn', '112throw_134thcolumn', '54throw_56thcolumn', '42throw_154thcolumn', '12throw_40thcolumn', '35throw_173thcolumn', '2throw_101thcolumn', '39throw_134thcolumn', '35throw_39thcolumn', '140throw_166thcolumn', '72throw_138thcolumn', '31throw_66thcolumn', '19throw_77thcolumn', '28throw_81thcolumn', '113throw_125thcolumn', '39throw_101thcolumn', '50throw_191thcolumn', '39throw_142thcolumn', '78throw_91thcolumn', '125throw_156thcolumn', '115throw_192thcolumn', '54throw_75thcolumn', '58throw_101thcolumn', '6throw_165thcolumn', '68throw_166thcolumn', '52throw_192thcolumn', '164throw_174thcolumn', '73throw_180thcolumn', '12throw_16thcolumn', '45throw_167thcolumn', '49throw_161thcolumn', '17throw_118thcolumn', '50throw_199thcolumn', '97throw_119thcolumn', '146throw_151thcolumn', '70throw_163thcolumn', '166throw_178thcolumn', '25throw_195thcolumn', '5throw_126thcolumn', '12throw_139thcolumn', '41throw_99thcolumn', '12throw_37thcolumn', '65throw_75thcolumn', '96throw_189thcolumn', '75throw_189thcolumn', '153throw_162thcolumn', '0throw_60thcolumn', '8throw_50thcolumn', '35throw_171thcolumn', '12throw_41thcolumn', '42throw_146thcolumn', '78throw_185thcolumn', '68throw_89thcolumn', '28throw_188thcolumn', '126throw_167thcolumn', '12throw_84thcolumn', '65throw_179thcolumn', '38throw_173thcolumn', '175throw_197thcolumn', '120throw_176thcolumn', '13throw_149thcolumn', '98throw_116thcolumn', '37throw_73thcolumn', '80throw_188thcolumn', '39throw_145thcolumn', '5throw_59thcolumn', '42throw_149thcolumn', '159throw_189thcolumn', '162throw_197thcolumn', '151throw_166thcolumn', '2throw_58thcolumn', '27throw_165thcolumn', '132throw_186thcolumn', '163throw_191thcolumn', '79throw_189thcolumn', '24throw_31thcolumn', '103throw_163thcolumn', '27throw_66thcolumn', '76throw_192thcolumn', '109throw_166thcolumn', '30throw_155thcolumn', '97throw_170thcolumn', '130throw_191thcolumn', '68throw_134thcolumn', '71throw_73thcolumn', '141throw_161thcolumn', '127throw_176thcolumn', '80throw_121thcolumn', '2throw_104thcolumn', '100throw_165thcolumn', '67throw_140thcolumn', '98throw_159thcolumn', '113throw_165thcolumn', '72throw_85thcolumn', '101throw_151thcolumn', '101throw_165thcolumn', '66throw_127thcolumn', '175throw_198thcolumn', '167throw_174thcolumn', '77throw_81thcolumn', '97throw_117thcolumn', '105throw_133thcolumn', '54throw_85thcolumn', '58throw_129thcolumn', '81throw_162thcolumn', '3throw_118thcolumn', '81throw_189thcolumn', '18throw_160thcolumn', '35throw_136thcolumn', '50throw_175thcolumn', '84throw_114thcolumn', '25throw_134thcolumn', '41throw_118thcolumn', '88throw_195thcolumn', '60throw_80thcolumn', '80throw_107thcolumn', '146throw_175thcolumn', '73throw_166thcolumn', '44throw_85thcolumn', '72throw_116thcolumn', '46throw_154thcolumn', '126throw_199thcolumn', '14throw_51thcolumn', '28throw_35thcolumn', '144throw_160thcolumn', '61throw_75thcolumn', '46throw_161thcolumn', '126throw_161thcolumn', '36throw_163thcolumn', '76throw_77thcolumn', '44throw_94thcolumn', '81throw_193thcolumn', '165throw_174thcolumn', '51throw_61thcolumn', '0throw_88thcolumn', '12throw_83thcolumn', '69throw_77thcolumn', '53throw_196thcolumn', '148throw_151thcolumn', '94throw_144thcolumn', '99throw_114thcolumn', '76throw_182thcolumn', '156throw_196thcolumn', '110throw_168thcolumn', '1throw_15thcolumn', '54throw_184thcolumn', '101throw_134thcolumn', '0throw_165thcolumn', '33throw_130thcolumn', '103throw_161thcolumn', '116throw_143thcolumn', '91throw_161thcolumn', '47throw_174thcolumn', '31throw_125thcolumn', '2throw_161thcolumn', '115throw_118thcolumn', '97throw_183thcolumn', '137throw_187thcolumn', '5throw_24thcolumn', '70throw_159thcolumn', '130throw_134thcolumn', '42throw_199thcolumn', '11throw_124thcolumn', '45throw_72thcolumn', '19throw_35thcolumn', '67throw_129thcolumn', '5throw_175thcolumn', '115throw_198thcolumn', '44throw_134thcolumn', '8throw_162thcolumn', '59throw_184thcolumn', '75throw_77thcolumn', '0throw_43thcolumn', '62throw_119thcolumn', '47throw_186thcolumn', '30throw_123thcolumn', '10throw_166thcolumn', '67throw_72thcolumn', '0throw_41thcolumn', '83throw_189thcolumn', '76throw_188thcolumn', '114throw_148thcolumn', '173throw_187thcolumn', '71throw_124thcolumn', '94throw_115thcolumn', '5throw_133thcolumn', '27throw_176thcolumn', '28throw_93thcolumn', '22throw_190thcolumn', '12throw_118thcolumn', '39throw_153thcolumn', '75throw_137thcolumn', '51throw_189thcolumn', '101throw_126thcolumn', '30throw_178thcolumn', '52throw_123thcolumn', '36throw_103thcolumn', '39throw_123thcolumn', '28throw_84thcolumn', '115throw_168thcolumn', '128throw_162thcolumn', '91throw_198thcolumn', '115throw_171thcolumn', '193throw_194thcolumn', '99throw_196thcolumn', '0throw_38thcolumn', '27throw_112thcolumn', '153throw_161thcolumn', '79throw_159thcolumn', '37throw_135thcolumn', '35throw_114thcolumn', '105throw_184thcolumn', '70throw_113thcolumn']\n"
     ]
    }
   ],
   "source": [
    "significant_features = selected_features\n",
    "print(f\"\\n Selected {len(significant_features)} features explaining ≥85% of the variance:\")\n",
    "print(significant_features)"
   ]
  },
  {
   "cell_type": "code",
   "execution_count": null,
   "id": "9ae2414e-a7df-48dd-b7c8-f2ab8230b00e",
   "metadata": {},
   "outputs": [],
   "source": []
  }
 ],
 "metadata": {
  "kernelspec": {
   "display_name": "Python [conda env:base] *",
   "language": "python",
   "name": "conda-base-py"
  },
  "language_info": {
   "codemirror_mode": {
    "name": "ipython",
    "version": 3
   },
   "file_extension": ".py",
   "mimetype": "text/x-python",
   "name": "python",
   "nbconvert_exporter": "python",
   "pygments_lexer": "ipython3",
   "version": "3.11.5"
  }
 },
 "nbformat": 4,
 "nbformat_minor": 5
}
